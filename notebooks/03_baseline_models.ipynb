{
 "cells": [
  {
   "cell_type": "markdown",
   "id": "ed36ea07",
   "metadata": {},
   "source": [
    "# Подбор лучших моделей "
   ]
  },
  {
   "cell_type": "code",
   "execution_count": 17,
   "id": "887348f2",
   "metadata": {},
   "outputs": [],
   "source": [
    "import numpy as np\n",
    "import pandas as pd\n",
    "from sklearn.linear_model import LogisticRegression\n",
    "from sklearn.ensemble import RandomForestClassifier\n",
    "from catboost import CatBoostClassifier\n",
    "from xgboost import XGBClassifier\n",
    "from imblearn.over_sampling import SMOTE\n",
    "from imblearn.pipeline import make_pipeline as mp\n",
    "from sklearn.metrics import accuracy_score, f1_score, recall_score, roc_auc_score\n",
    "from sklearn.preprocessing import StandardScaler"
   ]
  },
  {
   "cell_type": "markdown",
   "id": "12b7bcbc",
   "metadata": {},
   "source": [
    "Подготовка данных"
   ]
  },
  {
   "cell_type": "code",
   "execution_count": 18,
   "id": "cff1ebb7",
   "metadata": {},
   "outputs": [],
   "source": [
    "train_df = pd.read_csv('../data/train_preprocessed.csv')\n",
    "test_df = pd.read_csv('../data/test_preprocessed.csv')\n",
    "\n",
    "X_train = train_df.drop('Churn', axis=1)\n",
    "y_train = train_df['Churn']\n",
    "X_test = test_df.drop('Churn', axis=1)\n",
    "y_test = test_df['Churn']\n",
    "\n",
    "scaler = StandardScaler()\n",
    "\n",
    "pipeline = mp(\n",
    "    scaler,\n",
    "    SMOTE(random_state=42)\n",
    ")\n",
    "\n",
    "X_train_processed, y_train_processed = pipeline.fit_resample(X_train, y_train)\n",
    "\n",
    "X_test_processed = scaler.transform(X_test)"
   ]
  }
 ],
 "metadata": {
  "kernelspec": {
   "display_name": "Python 3",
   "language": "python",
   "name": "python3"
  },
  "language_info": {
   "codemirror_mode": {
    "name": "ipython",
    "version": 3
   },
   "file_extension": ".py",
   "mimetype": "text/x-python",
   "name": "python",
   "nbconvert_exporter": "python",
   "pygments_lexer": "ipython3",
   "version": "3.10.2"
  }
 },
 "nbformat": 4,
 "nbformat_minor": 5
}
