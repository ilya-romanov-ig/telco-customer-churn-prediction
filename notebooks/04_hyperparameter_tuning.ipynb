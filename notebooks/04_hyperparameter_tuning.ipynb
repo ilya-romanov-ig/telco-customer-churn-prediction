{
 "cells": [
  {
   "cell_type": "markdown",
   "id": "9d179ffb",
   "metadata": {},
   "source": [
    "# Подбор гиперпараметров для RandomForest, CatBoost, XGBosst"
   ]
  },
  {
   "cell_type": "code",
   "execution_count": 1,
   "id": "1885c037",
   "metadata": {},
   "outputs": [],
   "source": [
    "import numpy as np\n",
    "import pandas as pd\n",
    "from sklearn.ensemble import RandomForestClassifier\n",
    "from catboost import CatBoostClassifier\n",
    "from xgboost import XGBClassifier\n",
    "from imblearn.over_sampling import SMOTE\n",
    "from imblearn.pipeline import make_pipeline as mp\n",
    "from sklearn.metrics import accuracy_score, f1_score, recall_score, roc_auc_score\n",
    "from sklearn.preprocessing import StandardScaler\n",
    "from sklearn.model_selection import RandomizedSearchCV, GridSearchCV, cross_val_score\n",
    "import optuna"
   ]
  },
  {
   "cell_type": "markdown",
   "id": "8511c688",
   "metadata": {},
   "source": [
    "Подготовка данных"
   ]
  },
  {
   "cell_type": "code",
   "execution_count": 2,
   "id": "bf7525e2",
   "metadata": {},
   "outputs": [
    {
     "name": "stderr",
     "output_type": "stream",
     "text": [
      "C:\\Users\\илья\\AppData\\Local\\Packages\\PythonSoftwareFoundation.Python.3.10_qbz5n2kfra8p0\\LocalCache\\local-packages\\Python310\\site-packages\\joblib\\externals\\loky\\backend\\context.py:136: UserWarning: Could not find the number of physical cores for the following reason:\n",
      "[WinError 2] Не удается найти указанный файл\n",
      "Returning the number of logical cores instead. You can silence this warning by setting LOKY_MAX_CPU_COUNT to the number of cores you want to use.\n",
      "  warnings.warn(\n",
      "  File \"C:\\Users\\илья\\AppData\\Local\\Packages\\PythonSoftwareFoundation.Python.3.10_qbz5n2kfra8p0\\LocalCache\\local-packages\\Python310\\site-packages\\joblib\\externals\\loky\\backend\\context.py\", line 257, in _count_physical_cores\n",
      "    cpu_info = subprocess.run(\n",
      "  File \"C:\\Program Files\\WindowsApps\\PythonSoftwareFoundation.Python.3.10_3.10.3056.0_x64__qbz5n2kfra8p0\\lib\\subprocess.py\", line 503, in run\n",
      "    with Popen(*popenargs, **kwargs) as process:\n",
      "  File \"C:\\Program Files\\WindowsApps\\PythonSoftwareFoundation.Python.3.10_3.10.3056.0_x64__qbz5n2kfra8p0\\lib\\subprocess.py\", line 971, in __init__\n",
      "    self._execute_child(args, executable, preexec_fn, close_fds,\n",
      "  File \"C:\\Program Files\\WindowsApps\\PythonSoftwareFoundation.Python.3.10_3.10.3056.0_x64__qbz5n2kfra8p0\\lib\\subprocess.py\", line 1456, in _execute_child\n",
      "    hp, ht, pid, tid = _winapi.CreateProcess(executable, args,\n"
     ]
    }
   ],
   "source": [
    "train_df = pd.read_csv('../data/train_preprocessed.csv')\n",
    "test_df = pd.read_csv('../data/test_preprocessed.csv')\n",
    "\n",
    "X_train = train_df.drop('Churn', axis=1)\n",
    "y_train = train_df['Churn']\n",
    "X_test = test_df.drop('Churn', axis=1)\n",
    "y_test = test_df['Churn']\n",
    "\n",
    "scaler = StandardScaler()\n",
    "\n",
    "pipeline = mp(\n",
    "    scaler,\n",
    "    SMOTE(random_state=42)\n",
    ")\n",
    "\n",
    "X_train_processed, y_train_processed = pipeline.fit_resample(X_train, y_train)\n",
    "\n",
    "X_test_processed = scaler.transform(X_test)"
   ]
  },
  {
   "cell_type": "markdown",
   "id": "2ea35ce7",
   "metadata": {},
   "source": [
    "Использование RandomiseSearchCV для подбора гиперпараметров моделей"
   ]
  },
  {
   "cell_type": "code",
   "execution_count": null,
   "id": "41755b5d",
   "metadata": {},
   "outputs": [],
   "source": [
    "scoring = ['accuracy', 'f1', 'recall', 'roc_auc']\n",
    "\n",
    "param_desrtibutions = {\n",
    "    'RF': {\n",
    "        'n_estimators': np.random.randint(100, 500),\n",
    "        'max_depth': np.random.randint(3, 20),\n",
    "        'min_sample_split': np.random.randint(1, 20),\n",
    "        'max_sample_split': np.random.randint(2, 20),\n",
    "        'max_features': ['auto', 'sqrt', 'log2'],\n",
    "        'criterion': ['gini', 'entropy', 'log_loss']\n",
    "    },\n",
    "    'CB': {\n",
    "        'iterations': np.random.randint(100, 500),\n",
    "        'depth': np.random.randint(4, 20),\n",
    "        'learning_rate': np.random.uniform(0.4, 0.6),\n",
    "        'l2_leaf_reg': np.random.randint(1, 10)\n",
    "    },\n",
    "    'XGB': {\n",
    "        'n_estimators': np.random.randint(100, 500),\n",
    "        'max_depth': np.random.randint(3, 20),\n",
    "        'learning_rate': np.random.uniform(0.01, 0.3)\n",
    "    }\n",
    "}\n",
    "\n",
    "models = {\n",
    "    'RF': RandomForestClassifier(random_state=42),\n",
    "    'CB': CatBoostClassifier(random_state=42, verbose=False),\n",
    "    'XGB': XGBClassifier(random_state=42)\n",
    "}\n",
    "\n",
    "best_model ={}\n",
    "seatch_results = {}\n",
    "\n",
    "for name, model in models.items():\n",
    "    random_search = RandomizedSearchCV(\n",
    "        estimator=model,\n",
    "        scoring=scoring,\n",
    "        random_state=42,\n",
    "        n_iter=20,\n",
    "        n_jobs=-1,\n",
    "        cv=5,\n",
    "        refit='accuracy',\n",
    "        return_train_score=True\n",
    "    )\n",
    "\n",
    "    random_search.fit(X_train_processed, y_train_processed)\n",
    "    best_model[name] = random_search.best_estimator_\n"
   ]
  }
 ],
 "metadata": {
  "kernelspec": {
   "display_name": "Python 3",
   "language": "python",
   "name": "python3"
  },
  "language_info": {
   "codemirror_mode": {
    "name": "ipython",
    "version": 3
   },
   "file_extension": ".py",
   "mimetype": "text/x-python",
   "name": "python",
   "nbconvert_exporter": "python",
   "pygments_lexer": "ipython3",
   "version": "3.10.11"
  }
 },
 "nbformat": 4,
 "nbformat_minor": 5
}
