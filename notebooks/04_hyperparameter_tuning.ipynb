{
 "cells": [
  {
   "cell_type": "markdown",
   "id": "9d179ffb",
   "metadata": {},
   "source": [
    "# Подбор гиперпараметров для RandomForest, CatBoost, XGBosst"
   ]
  },
  {
   "cell_type": "code",
   "execution_count": null,
   "id": "1885c037",
   "metadata": {},
   "outputs": [],
   "source": [
    "import numpy as np\n",
    "import pandas as pd\n",
    "from sklearn.ensemble import RandomForestClassifier\n",
    "from catboost import CatBoostClassifier\n",
    "from xgboost import XGBClassifier\n",
    "from imblearn.over_sampling import SMOTE\n",
    "from imblearn.pipeline import make_pipeline as mp\n",
    "from sklearn.metrics import accuracy_score, f1_score, recall_score, roc_auc_score\n",
    "from sklearn.preprocessing import StandardScaler\n",
    "from sklearn.model_selection import RandomizedSearchCV, GridSearchCV, cross_val_score\n",
    "import optuna"
   ]
  },
  {
   "cell_type": "markdown",
   "id": "8511c688",
   "metadata": {},
   "source": [
    "Подготовка данных"
   ]
  },
  {
   "cell_type": "code",
   "execution_count": null,
   "id": "bf7525e2",
   "metadata": {},
   "outputs": [],
   "source": [
    "train_df = pd.read_csv('../data/train_preprocessed.csv')\n",
    "test_df = pd.read_csv('../data/test_preprocessed.csv')\n",
    "\n",
    "X_train = train_df.drop('Churn', axis=1)\n",
    "y_train = train_df['Churn']\n",
    "X_test = test_df.drop('Churn', axis=1)\n",
    "y_test = test_df['Churn']\n",
    "\n",
    "scaler = StandardScaler()\n",
    "\n",
    "pipeline = mp(\n",
    "    scaler,\n",
    "    SMOTE(random_state=42)\n",
    ")\n",
    "\n",
    "X_train_processed, y_train_processed = pipeline.fit_resample(X_train, y_train)\n",
    "\n",
    "X_test_processed = scaler.transform(X_test)"
   ]
  },
  {
   "cell_type": "markdown",
   "id": "2ea35ce7",
   "metadata": {},
   "source": [
    "Использование RandomiseSearchCV для RF"
   ]
  },
  {
   "cell_type": "code",
   "execution_count": null,
   "id": "41755b5d",
   "metadata": {},
   "outputs": [],
   "source": [
    "scoring = ['accuracy', 'f1', 'recall', 'roc_auc']\n",
    "\n",
    "params_rand_rf = {\n",
    "    'n_estimators': np.random.randint(100, 500),\n",
    "    'max_depth': np.random.randint(3, 20),\n",
    "    'min_sample_split': np.random.randint(1, 20),\n",
    "    'max_sample_split': np.random.randint(2, 20),\n",
    "    'max_features': ['auto', 'sqrt', 'log2'],\n",
    "    'criterion': ['gini', 'entropy', 'log_loss']\n",
    "}\n",
    "\n",
    "rf = RandomForestClassifier(random_state=42)\n",
    "\n",
    "\n",
    "\n",
    "rf_rand_search = RandomizedSearchCV(\n",
    "    rf,\n",
    "    params_rand_rf,\n",
    "    n_iter=50,\n",
    "    cv=5,\n",
    "    scoring=scoring,\n",
    "    n_jobs=-1,\n",
    "    random_state=42\n",
    ")"
   ]
  }
 ],
 "metadata": {
  "kernelspec": {
   "display_name": "Python 3",
   "language": "python",
   "name": "python3"
  },
  "language_info": {
   "codemirror_mode": {
    "name": "ipython",
    "version": 3
   },
   "file_extension": ".py",
   "mimetype": "text/x-python",
   "name": "python",
   "nbconvert_exporter": "python",
   "pygments_lexer": "ipython3",
   "version": "3.10.11"
  }
 },
 "nbformat": 4,
 "nbformat_minor": 5
}
