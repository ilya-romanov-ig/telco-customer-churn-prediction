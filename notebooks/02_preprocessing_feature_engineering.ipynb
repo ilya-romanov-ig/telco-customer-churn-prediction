{
 "cells": [
  {
   "cell_type": "markdown",
   "id": "c48bb6a2",
   "metadata": {},
   "source": [
    "# Предобработка данных"
   ]
  },
  {
   "cell_type": "code",
   "execution_count": null,
   "id": "0fcbe1ef",
   "metadata": {},
   "outputs": [],
   "source": [
    "import pandas as pd"
   ]
  },
  {
   "cell_type": "code",
   "execution_count": 55,
   "id": "46f4ef8c",
   "metadata": {},
   "outputs": [],
   "source": [
    "data = pd.read_csv('../data/data_raw.csv')\n",
    "df = pd.DataFrame(data)"
   ]
  },
  {
   "cell_type": "markdown",
   "id": "9c49480d",
   "metadata": {},
   "source": [
    "Обработка пропусков"
   ]
  },
  {
   "cell_type": "code",
   "execution_count": 56,
   "id": "b737f836",
   "metadata": {},
   "outputs": [],
   "source": [
    "df['TotalCharges'].replace(' ', None, inplace=True)\n",
    "df['TotalCharges'] = df['TotalCharges'].astype('float')\n",
    "df['TotalCharges'].fillna(df['TotalCharges'].median(), inplace=True)"
   ]
  },
  {
   "cell_type": "markdown",
   "id": "3a63627a",
   "metadata": {},
   "source": [
    "Label Encoding"
   ]
  },
  {
   "cell_type": "code",
   "execution_count": 57,
   "id": "bd1a600d",
   "metadata": {},
   "outputs": [],
   "source": [
    "df['gender'] = df['gender'].map({'Male': 1, 'Female' : 0})\n",
    "df['HasPartner'] = df['Partner'].map({'Yes': 1, 'No': 0})\n",
    "df['HasDependents'] = df['Dependents'].map({'Yes': 1, 'No': 0})\n",
    "df['HasPhoneService'] = df['PhoneService'].map({'Yes': 1, 'No': 0})\n",
    "df['HasPaperlessBilling'] = df['PaperlessBilling'].map({'Yes': 1, 'No': 0})\n",
    "df['HasInternetService'] = (df['InternetService'] != 'No').map({True:1, False:0})\n",
    "df['InternetType_DSL'] = ((df['InternetService'] == 'DSL') & df['HasInternetService']).map({True:1, False:0})\n",
    "df['InternetType_FiberOptic'] = ((df['InternetService'] == 'Fiber optic') & df['HasInternetService']).map({True:1, False:0})\n",
    "df['HasMultipleLines'] = ((df['MultipleLines'] == 'Yes') & df['HasPhoneService']).map({True:1, False:0})\n",
    "df['Churn'] = df['Churn'].map({'Yes':1, 'No':0})\n",
    "services = [\n",
    "    'OnlineSecurity', \n",
    "    'OnlineBackup', \n",
    "    'DeviceProtection',\n",
    "    'TechSupport',\n",
    "    'StreamingTV',\n",
    "    'StreamingMovies'\n",
    "]\n",
    "\n",
    "for s in services:\n",
    "    df[f'Has{s}'] = ((df[s] == 'Yes') & df['HasInternetService']).map({True:1, False:0})"
   ]
  },
  {
   "cell_type": "markdown",
   "id": "9936462a",
   "metadata": {},
   "source": [
    "One-Hot Encoding"
   ]
  },
  {
   "cell_type": "code",
   "execution_count": 58,
   "id": "401e0348",
   "metadata": {},
   "outputs": [],
   "source": [
    "one_hot_contract = pd.get_dummies(\n",
    "    df['Contract'],\n",
    "    prefix='ContractType'\n",
    ")\n",
    "\n",
    "one_hot_payment = pd.get_dummies(\n",
    "    df['PaymentMethod'],\n",
    "    prefix='PaymentMethodType'\n",
    ")"
   ]
  },
  {
   "cell_type": "markdown",
   "id": "3c07875f",
   "metadata": {},
   "source": [
    "Объединение данных, удаление лишних переменных"
   ]
  },
  {
   "cell_type": "code",
   "execution_count": 59,
   "id": "1c279a92",
   "metadata": {},
   "outputs": [],
   "source": [
    "df = pd.concat([df, one_hot_contract, one_hot_payment], axis=1)\n",
    "\n",
    "cat_cols = df.select_dtypes(include=['object']).columns\n",
    "df.drop(cat_cols, axis=1, inplace=True)"
   ]
  },
  {
   "cell_type": "markdown",
   "id": "c89f2022",
   "metadata": {},
   "source": [
    "Создание нового признака AvgChargePerTenure"
   ]
  },
  {
   "cell_type": "code",
   "execution_count": null,
   "id": "ef6177d4",
   "metadata": {},
   "outputs": [],
   "source": [
    "df['AvgChargePerTenure'] = df['TotalCharges'] / (df['tenure'] + 1)"
   ]
  },
  {
   "cell_type": "markdown",
   "id": "2cf7254e",
   "metadata": {},
   "source": [
    "Создание тренирочного и тестового датасета"
   ]
  },
  {
   "cell_type": "code",
   "execution_count": 61,
   "id": "9bce2e5c",
   "metadata": {},
   "outputs": [],
   "source": [
    "from sklearn.model_selection import train_test_split\n",
    "\n",
    "train_df, test_df = train_test_split(\n",
    "    df,\n",
    "    test_size=0.2,\n",
    "    random_state=42,\n",
    "    stratify=df['Churn']\n",
    ")\n",
    "\n",
    "train_df.to_csv('../data/train_preprocessed.csv', index=False)\n",
    "test_df.to_csv('../data/test_preprocessed.csv', index=False)"
   ]
  }
 ],
 "metadata": {
  "kernelspec": {
   "display_name": "Python 3",
   "language": "python",
   "name": "python3"
  },
  "language_info": {
   "codemirror_mode": {
    "name": "ipython",
    "version": 3
   },
   "file_extension": ".py",
   "mimetype": "text/x-python",
   "name": "python",
   "nbconvert_exporter": "python",
   "pygments_lexer": "ipython3",
   "version": "3.10.2"
  }
 },
 "nbformat": 4,
 "nbformat_minor": 5
}
