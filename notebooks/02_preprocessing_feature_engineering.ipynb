{
 "cells": [
  {
   "cell_type": "markdown",
   "id": "c48bb6a2",
   "metadata": {},
   "source": [
    "# Предобработка данных"
   ]
  },
  {
   "cell_type": "code",
   "execution_count": 1,
   "id": "0fcbe1ef",
   "metadata": {},
   "outputs": [],
   "source": [
    "import pandas as pd\n",
    "import numpy as npm"
   ]
  },
  {
   "cell_type": "code",
   "execution_count": 4,
   "id": "46f4ef8c",
   "metadata": {},
   "outputs": [],
   "source": [
    "data = pd.read_csv('../data/data_raw.csv')\n",
    "df = pd.DataFrame(data)"
   ]
  },
  {
   "cell_type": "markdown",
   "id": "9c49480d",
   "metadata": {},
   "source": [
    "Обработка пропусков"
   ]
  },
  {
   "cell_type": "code",
   "execution_count": 8,
   "id": "b737f836",
   "metadata": {},
   "outputs": [],
   "source": [
    "df['TotalCharges'].replace(' ', None, inplace=True)\n",
    "df['TotalCharges'] = df['TotalCharges'].astype('float')\n",
    "df['TotalCharges'].fillna(df['TotalCharges'].median(), inplace=True)"
   ]
  }
 ],
 "metadata": {
  "kernelspec": {
   "display_name": "Python 3",
   "language": "python",
   "name": "python3"
  },
  "language_info": {
   "codemirror_mode": {
    "name": "ipython",
    "version": 3
   },
   "file_extension": ".py",
   "mimetype": "text/x-python",
   "name": "python",
   "nbconvert_exporter": "python",
   "pygments_lexer": "ipython3",
   "version": "3.10.2"
  }
 },
 "nbformat": 4,
 "nbformat_minor": 5
}
